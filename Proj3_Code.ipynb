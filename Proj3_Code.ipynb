{
 "cells": [
  {
   "cell_type": "markdown",
   "id": "56c1803a",
   "metadata": {},
   "source": [
    "# EEP 153 Proj 3"
   ]
  },
  {
   "cell_type": "code",
   "execution_count": 1,
   "id": "325b0e9b",
   "metadata": {},
   "outputs": [],
   "source": [
    "import pandas as pd\n",
    "import numpy as np"
   ]
  },
  {
   "cell_type": "code",
   "execution_count": 6,
   "id": "e028bc9a",
   "metadata": {},
   "outputs": [],
   "source": [
    "consumption_ownprod = pd.read_excel('Nigeria LSMS Consumption from Own Production.xlsx')\n",
    "consumption = pd.read_excel('Nigeria LSMS Consumption.xlsx')\n",
    "expenditures = pd.read_excel('Nigeria LSMS.xlsx',sheet_name='Expenditures')\n",
    "hh_characteristics = pd.read_excel('Nigeria LSMS.xlsx',sheet_name='HH Characteristics')"
   ]
  },
  {
   "cell_type": "code",
   "execution_count": null,
   "id": "14d35b7a",
   "metadata": {},
   "outputs": [],
   "source": []
  }
 ],
 "metadata": {
  "kernelspec": {
   "display_name": "Python 3 (ipykernel)",
   "language": "python",
   "name": "python3"
  },
  "language_info": {
   "codemirror_mode": {
    "name": "ipython",
    "version": 3
   },
   "file_extension": ".py",
   "mimetype": "text/x-python",
   "name": "python",
   "nbconvert_exporter": "python",
   "pygments_lexer": "ipython3",
   "version": "3.9.12"
  }
 },
 "nbformat": 4,
 "nbformat_minor": 5
}
